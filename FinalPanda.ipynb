{
  "nbformat": 4,
  "nbformat_minor": 0,
  "metadata": {
    "colab": {
      "provenance": [],
      "include_colab_link": true
    },
    "kernelspec": {
      "name": "python3",
      "display_name": "Python 3"
    },
    "language_info": {
      "name": "python"
    }
  },
  "cells": [
    {
      "cell_type": "markdown",
      "metadata": {
        "id": "view-in-github",
        "colab_type": "text"
      },
      "source": [
        "<a href=\"https://colab.research.google.com/github/Alex-Dutra/153/blob/main/FinalPanda.ipynb\" target=\"_parent\"><img src=\"https://colab.research.google.com/assets/colab-badge.svg\" alt=\"Open In Colab\"/></a>"
      ]
    },
    {
      "cell_type": "code",
      "execution_count": null,
      "metadata": {
        "id": "gacouQ5gkNCD"
      },
      "outputs": [],
      "source": [
        "%pip install gurobipy"
      ]
    },
    {
      "cell_type": "code",
      "source": [
        "import gurobipy as gp\n",
        "from gurobipy import GRB\n",
        "\n",
        "# Create a new model\n",
        "model = gp.Model(\"diet\")\n",
        "\n",
        "# Create lists (sets in linear programming)\n",
        "food = {\"Chow Mein\", \"Chow Fun\", \"Fried Rice\", \"Brown Steamed Rice\", \"White Steamed Rice\", \"Mixed Vegetables (side)\", \"Country Style Bean Curd\", \"Eggplant Tofu\", \"Hot Szechuan Tofu\", \"Mixed Veggies (entrée)\", \"Black Pepper Chicken\", \"Kung Pao Chicken\", \"Grilled Teriyaki Chicken\", \"Teriyaki Chicken\", \"Mushroom Chicken\", \"Orange Chicken\", \"Potato Chicken\", \"String Bean Chicken Breast\", \"SweetFire Chicken Breast\", \"Sweet & Sour Chicken Breast\", \"Beijing Beef\", \"Broccoli Beef\", \"Shanghai Angus Steak (Asparagus)\", \"Shanghai Angus Steak (String Bean)\", \"Crispy Shrimp (Entrée)\", \"Honey Walnut Shrimp\", \"Five Flavor Shrimp\", \"Golden Treasure Shrimp\", \"Steamed Ginger Fish\", \"Crispy Shrimp\", \"Chicken Egg Roll\", \"Chicken Potsticker\", \"Cream Cheese Rangoon\", \"Vegetable Spring Roll\", \"Hot & Sour Soup (cup)\", \"Hot & Sour Soup (bowl)\", \"Teriyaki Sauce\", \"Sweet & Sour Sauce\", \"Chili Sauce\", \"Soy Sauce\", \"Potsticker Sauce\", \"Hot Mustard\", \"Plum Sauce\", \"Fortune Cookies\", \"Chocolate Chip Chunk Cookie\"}\n",
        "extra = []\n",
        "cost = {'Bowl': 6.80, 'Plate': 8, 'LPlate': 6}\n",
        "Total_Cost\n",
        "entree_allowable = {'Bowl': 1, 'Plate' : 2, 'LPlate' : 3 }\n",
        "side_allowable = {'Bowl': 1, 'Plate' : 1, 'LPlate' : 1'}\n",
        "entree = [segundo : 1, 'mu':0]\n",
        "energy = {'Segundo': 800, 'MU': 700, 'McDonalds': 900}\n",
        "protein = {'Segundo': 9, 'MU': 8, 'McDonalds': 7}\n",
        "fiber = {'Segundo': 8, 'MU': 6, 'McDonalds': 2}\n",
        "\n",
        "# define some parameters\n",
        "min_energy = 2400\n",
        "max_energy = 3000\n",
        "\n",
        "min_protein = 56\n",
        "max_protein = GRB.INFINITY # there is no maximum protein\n",
        "\n",
        "min_fiber = 33.6 # g\n",
        "max_fiber = GRB.INFINITY # there is no maximum protein\n",
        "\n",
        "min_carbs = 130 # g\n",
        "max_carbs = GRB.INFINITY # there is no maximum protein\n",
        "\n",
        "min_sodium = 0 # there is no minimum sodium\n",
        "max_sodium = 4700\n",
        "\n",
        "min_cholesterol = 125\n",
        "max_cholesterol = 200 # allowable cholesterol\n",
        "\n",
        "min_calorie_fat = 0\n",
        "max_calorie_fat = .30 # ratio allowable\n",
        "\n",
        "min_calorie_satfat = 0\n",
        "max_calorie_satfat = .10 # ratio allowable\n",
        "\n",
        "min_VitaminA = 100 #100%\n",
        "max_VitaminA = GRB.INFINITY # there is no maximum protein\n",
        "\n",
        "min_VitaminC = 100 #100%\n",
        "max_VitaminC = GRB.INFINITY # there is no maximum protein\n",
        "\n",
        "min_Calcium = 100 #100%\n",
        "max_Calcium = GRB.INFINITY # there is no maximum protein\n",
        "\n",
        "min_Iron = 100 #100%\n",
        "max_Iron = GRB.INFINITY # there is no maximum protein\n",
        "\n",
        "\n",
        "# Define decision variables: # of meals for each food option\n",
        "x = model.addVars(food, name=\"x\")\n",
        "\n",
        "# Set objective\n",
        "model.setObjective(sum(x[f]*cost[f] for f in food), GRB.MINIMIZE)\n",
        "\n",
        "# Add constraints\n",
        "# Energy Constraint\n",
        "model.addConstr(sum(x[f]*energy[f] for f in food) >= min_energy, \"min energy constraints\")\n",
        "model.addConstr(sum(x[f]*energy[f] for f in food) <= max_energy, \"max energy constraints\")\n",
        "\n",
        "# Protein Constraint\n",
        "model.addConstr(sum(x[f]*protein[f] for f in food) >= min_protein, \"min protein constraints\")\n",
        "model.addConstr(sum(x[f]*protein[f] for f in food) <= max_protein, \"max protein constraints\")\n",
        "\n",
        "# Fiber Constraint\n",
        "model.addConstr(sum(x[f]*fiber[f] for f in food) >= min_fiber, \"min fiber constraints\")\n",
        "model.addConstr(sum(x[f]*fiber[f] for f in food) <= max_fiber, \"max fiber constraints\")\n",
        "\n",
        "# non-negativity constraints are not required since they are by default enforced\n",
        "# for demonstration, you can add the following\n",
        "\n",
        "# for f in food:\n",
        "#     model.addConstr(x[f] >= 0, name=\"non-negativity_\"+f)\n",
        "\n",
        "# Optimize model\n",
        "model.optimize()"
      ],
      "metadata": {
        "id": "eRJnXQo5kOOs"
      },
      "execution_count": null,
      "outputs": []
    }
  ]
}